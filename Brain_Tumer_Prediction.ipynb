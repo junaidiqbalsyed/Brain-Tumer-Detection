{
  "nbformat": 4,
  "nbformat_minor": 0,
  "metadata": {
    "colab": {
      "name": "Brain_Tumer_Prediction_(Day_1).ipynb",
      "provenance": [],
      "collapsed_sections": []
    },
    "kernelspec": {
      "name": "python3",
      "display_name": "Python 3"
    },
    "language_info": {
      "name": "python"
    },
    "accelerator": "GPU"
  },
  "cells": [
    {
      "cell_type": "code",
      "metadata": {
        "colab": {
          "base_uri": "https://localhost:8080/"
        },
        "id": "qnuQWA2TKWfI",
        "outputId": "6bb1dbe2-817d-4867-fc90-bd35da7e9638"
      },
      "source": [
        "from google.colab import drive\n",
        "drive.mount('/content/drive')"
      ],
      "execution_count": 3,
      "outputs": [
        {
          "output_type": "stream",
          "text": [
            "Mounted at /content/drive\n"
          ],
          "name": "stdout"
        }
      ]
    },
    {
      "cell_type": "code",
      "metadata": {
        "id": "eMjmbLnckOgV"
      },
      "source": [
        "# add the path to the data set zip file \n",
        "\n",
        "!unzip \"/content/drive/MyDrive/Colab Notebooks/Workshop/Brain Tumor Data Set.zip\""
      ],
      "execution_count": null,
      "outputs": []
    },
    {
      "cell_type": "code",
      "metadata": {
        "id": "avs4zYYFljw0"
      },
      "source": [
        "import numpy as np\n",
        "import pandas as pd\n",
        "import matplotlib.pyplot as plt\n",
        "import glob\n",
        "import os \n",
        "import shutil\n",
        "import math\n",
        "import imutils\n",
        "import cv2\n"
      ],
      "execution_count": 5,
      "outputs": []
    },
    {
      "cell_type": "code",
      "metadata": {
        "colab": {
          "base_uri": "https://localhost:8080/"
        },
        "id": "eo_YQh8VlPUM",
        "outputId": "0033dbb5-cc1b-4841-cce4-69444bbd37a4"
      },
      "source": [
        "# count the number of images in the respective classes \n",
        "\n",
        "ROOT_DIR = \"/content/Brain Tumor Data Set\"\n",
        "\n",
        "num_of_images = {}\n",
        "\n",
        "for dir in os.listdir(ROOT_DIR):\n",
        "  num_of_images[dir] = len(os.listdir(os.path.join(ROOT_DIR, dir)))\n",
        "\n",
        "num_of_images"
      ],
      "execution_count": 6,
      "outputs": [
        {
          "output_type": "execute_result",
          "data": {
            "text/plain": [
              "{'Brain Tumor': 2513, 'Healthey': 2087}"
            ]
          },
          "metadata": {
            "tags": []
          },
          "execution_count": 6
        }
      ]
    },
    {
      "cell_type": "markdown",
      "metadata": {
        "id": "26bwrhRPul_y"
      },
      "source": [
        "###we will split our data such that we have \n",
        "    * 70% for Train Data \n",
        "    * 15% for Validation \n",
        "    * 15% for Testing "
      ]
    },
    {
      "cell_type": "code",
      "metadata": {
        "id": "udVaH7ZEmKE-"
      },
      "source": [
        "# we create a training folder \n",
        "\n",
        "if not os.path.exists(\"./train\"):\n",
        "  os.mkdir(\"./train\")\n",
        "\n",
        "  for dir in os.listdir(ROOT_DIR):\n",
        "    os.makedirs(\"./train/\"+dir)\n",
        "    for img in np.random.choice(a=os.listdir(os.path.join(ROOT_DIR, dir) ) , \n",
        "                                size= (math.floor(70/100*num_of_images[dir])-5) , replace=False ):\n",
        "      \n",
        "      O = os.path.join(ROOT_DIR,dir,img)\n",
        "      D = os.path.join('./train', dir)\n",
        "      shutil.copy(O,D)\n",
        "      os.remove(O)\n",
        "else:\n",
        "  print(\"Train Folder exsist\")"
      ],
      "execution_count": 7,
      "outputs": []
    },
    {
      "cell_type": "code",
      "metadata": {
        "id": "_eQ3H_r7yc6a"
      },
      "source": [
        "# we create a Validation folder \n",
        "\n",
        "if not os.path.exists(\"./val\"):\n",
        "  os.mkdir(\"./val\")\n",
        "\n",
        "  for dir in os.listdir(ROOT_DIR):\n",
        "    os.makedirs(\"./val/\"+dir)\n",
        "    for img in np.random.choice(a=os.listdir(os.path.join(ROOT_DIR, dir) ) , \n",
        "                                size= (math.floor(15/100*num_of_images[dir])-5) , replace=False ):\n",
        "      \n",
        "      O = os.path.join(ROOT_DIR,dir,img)\n",
        "      D = os.path.join('./val', dir)\n",
        "      shutil.copy(O,D)\n",
        "      os.remove(O)\n",
        "else:\n",
        "  print(\"Train Folder exsist\")"
      ],
      "execution_count": 8,
      "outputs": []
    },
    {
      "cell_type": "code",
      "metadata": {
        "id": "P7l47nEWz_s3"
      },
      "source": [
        "# we create a test folder \n",
        "\n",
        "if not os.path.exists(\"./test\"):\n",
        "  os.mkdir(\"./test\")\n",
        "\n",
        "  for dir in os.listdir(ROOT_DIR):\n",
        "    os.makedirs(\"./test/\"+dir)\n",
        "    for img in np.random.choice(a=os.listdir(os.path.join(ROOT_DIR, dir) ) , \n",
        "                                size= (math.floor(15/100*num_of_images[dir])-5) , replace=False ):\n",
        "      \n",
        "      O = os.path.join(ROOT_DIR,dir,img)\n",
        "      D = os.path.join('./test', dir)\n",
        "      shutil.copy(O,D)\n",
        "      os.remove(O)\n",
        "else:\n",
        "  print(\"Train Folder exsist\")"
      ],
      "execution_count": 9,
      "outputs": []
    },
    {
      "cell_type": "markdown",
      "metadata": {
        "id": "p4pjfje91k7D"
      },
      "source": [
        "### WE have now sucessfully devided our data \n",
        "\n",
        "## Lets now build our model "
      ]
    },
    {
      "cell_type": "code",
      "metadata": {
        "id": "SFgvuo9q1S9t"
      },
      "source": [
        "import numpy as np\n",
        "import matplotlib.pyplot as plt\n",
        "from keras.layers import Dense,Conv2D, Flatten, MaxPool2D, Dropout, BatchNormalization, MaxPooling2D, GlobalAvgPool2D\n",
        "from keras.models import Sequential\n",
        "from keras.preprocessing import image\n",
        "import keras"
      ],
      "execution_count": 10,
      "outputs": []
    },
    {
      "cell_type": "code",
      "metadata": {
        "id": "ZGDgyWUl13Iz"
      },
      "source": [
        ""
      ],
      "execution_count": null,
      "outputs": []
    },
    {
      "cell_type": "code",
      "metadata": {
        "colab": {
          "base_uri": "https://localhost:8080/"
        },
        "id": "eCx34xTN_Nic",
        "outputId": "9616e86e-488e-4941-a458-19708c2fd0d1"
      },
      "source": [
        "# Cnn model \n",
        "\n",
        "model = Sequential() \n",
        "model.add(Conv2D(filters=16, kernel_size= (3,3), activation= 'relu', input_shape=(224,224,3)) )\n",
        "\n",
        "model.add(Conv2D(filters=32, kernel_size=(3,3), activation='relu' ))\n",
        "model.add(MaxPool2D(pool_size=(2,2)))\n",
        "\n",
        "\n",
        "model.add(Conv2D(filters=64, kernel_size=(3,3), activation='relu' ))\n",
        "model.add(MaxPool2D(pool_size=(2,2)))\n",
        "\n",
        "\n",
        "model.add(Conv2D(filters=128, kernel_size=(3,3), activation='relu' ))\n",
        "model.add(MaxPool2D(pool_size=(2,2)))\n",
        "\n",
        "model.add(Dropout(rate=0.25))\n",
        "\n",
        "model.add(Flatten())\n",
        "model.add(Dense(units=64, activation='relu'))\n",
        "model.add(Dropout(rate=0.25))\n",
        "model.add(Dense(units=1, activation='sigmoid'))\n",
        "\n",
        "model.compile(loss= keras.losses.binary_crossentropy, optimizer='adam', metrics=['accuracy'] )\n",
        " \n",
        "model.summary()"
      ],
      "execution_count": 11,
      "outputs": [
        {
          "output_type": "stream",
          "text": [
            "Model: \"sequential\"\n",
            "_________________________________________________________________\n",
            "Layer (type)                 Output Shape              Param #   \n",
            "=================================================================\n",
            "conv2d (Conv2D)              (None, 222, 222, 16)      448       \n",
            "_________________________________________________________________\n",
            "conv2d_1 (Conv2D)            (None, 220, 220, 32)      4640      \n",
            "_________________________________________________________________\n",
            "max_pooling2d (MaxPooling2D) (None, 110, 110, 32)      0         \n",
            "_________________________________________________________________\n",
            "conv2d_2 (Conv2D)            (None, 108, 108, 64)      18496     \n",
            "_________________________________________________________________\n",
            "max_pooling2d_1 (MaxPooling2 (None, 54, 54, 64)        0         \n",
            "_________________________________________________________________\n",
            "conv2d_3 (Conv2D)            (None, 52, 52, 128)       73856     \n",
            "_________________________________________________________________\n",
            "max_pooling2d_2 (MaxPooling2 (None, 26, 26, 128)       0         \n",
            "_________________________________________________________________\n",
            "dropout (Dropout)            (None, 26, 26, 128)       0         \n",
            "_________________________________________________________________\n",
            "flatten (Flatten)            (None, 86528)             0         \n",
            "_________________________________________________________________\n",
            "dense (Dense)                (None, 64)                5537856   \n",
            "_________________________________________________________________\n",
            "dropout_1 (Dropout)          (None, 64)                0         \n",
            "_________________________________________________________________\n",
            "dense_1 (Dense)              (None, 1)                 65        \n",
            "=================================================================\n",
            "Total params: 5,635,361\n",
            "Trainable params: 5,635,361\n",
            "Non-trainable params: 0\n",
            "_________________________________________________________________\n"
          ],
          "name": "stdout"
        }
      ]
    },
    {
      "cell_type": "code",
      "metadata": {
        "id": "D20xZkfm4aQj"
      },
      "source": [
        ""
      ],
      "execution_count": null,
      "outputs": []
    },
    {
      "cell_type": "code",
      "metadata": {
        "id": "jQTLkfM85THf"
      },
      "source": [
        "model.compile(optimizer='adam', loss='binary_crossentropy', metrics=['accuracy']  )"
      ],
      "execution_count": 12,
      "outputs": []
    },
    {
      "cell_type": "markdown",
      "metadata": {
        "id": "YmaXaPqI5rkl"
      },
      "source": [
        "## Preparing our data using data generator "
      ]
    },
    {
      "cell_type": "code",
      "metadata": {
        "id": "V5Ct0i-35kgH"
      },
      "source": [
        "#train_datagen = image.ImageDataGenerator(preprocessing_function= , )"
      ],
      "execution_count": 13,
      "outputs": []
    },
    {
      "cell_type": "code",
      "metadata": {
        "id": "rlOcG5n-6Jmx"
      },
      "source": [
        "train_datagen = image.ImageDataGenerator(\n",
        "     zoom_range = 0.2, shear_range = 0.2 , rescale = 1./255 , horizontal_flip=True\n",
        ")\n",
        "\n",
        "val_datagen = image.ImageDataGenerator(rescale = 1./255)\n",
        "\n",
        "test_datagen = image.ImageDataGenerator(rescale = 1./255)"
      ],
      "execution_count": 14,
      "outputs": []
    },
    {
      "cell_type": "code",
      "metadata": {
        "colab": {
          "base_uri": "https://localhost:8080/"
        },
        "id": "Ze4QLGT-6RfD",
        "outputId": "da6d20b6-8cdc-4e16-a7c7-00b6ec900542"
      },
      "source": [
        "train_data = train_datagen.flow_from_directory(directory= \"/content/train\", target_size=(224,224), batch_size=32,\n",
        "                                  class_mode = 'binary', \n",
        "                                  )\n",
        "\n"
      ],
      "execution_count": 15,
      "outputs": [
        {
          "output_type": "stream",
          "text": [
            "Found 3209 images belonging to 2 classes.\n"
          ],
          "name": "stdout"
        }
      ]
    },
    {
      "cell_type": "code",
      "metadata": {
        "colab": {
          "base_uri": "https://localhost:8080/"
        },
        "id": "Dxd6UwmpHEVm",
        "outputId": "422f8180-18e6-4776-8626-3ecffdfb03da"
      },
      "source": [
        "train_data.class_indices"
      ],
      "execution_count": 16,
      "outputs": [
        {
          "output_type": "execute_result",
          "data": {
            "text/plain": [
              "{'Brain Tumor': 0, 'Healthey': 1}"
            ]
          },
          "metadata": {
            "tags": []
          },
          "execution_count": 16
        }
      ]
    },
    {
      "cell_type": "code",
      "metadata": {
        "colab": {
          "base_uri": "https://localhost:8080/"
        },
        "id": "QtdHpvg76czX",
        "outputId": "ef8eda7c-6257-4449-935e-e1165501465a"
      },
      "source": [
        "val_data = val_datagen.flow_from_directory(directory= \"/content/val\", target_size=(224,224), batch_size=32,\n",
        "                                  class_mode = 'binary'\n",
        "                                  )"
      ],
      "execution_count": 17,
      "outputs": [
        {
          "output_type": "stream",
          "text": [
            "Found 679 images belonging to 2 classes.\n"
          ],
          "name": "stdout"
        }
      ]
    },
    {
      "cell_type": "code",
      "metadata": {
        "colab": {
          "base_uri": "https://localhost:8080/"
        },
        "id": "E0eGbsVW6oY8",
        "outputId": "065dbfa0-eaff-4173-e172-7fc4906be206"
      },
      "source": [
        "test_data = test_datagen.flow_from_directory(directory= \"/content/test\", target_size=(224,224), batch_size=32,\n",
        "                                  class_mode = 'binary'\n",
        "                                  )"
      ],
      "execution_count": 18,
      "outputs": [
        {
          "output_type": "stream",
          "text": [
            "Found 679 images belonging to 2 classes.\n"
          ],
          "name": "stdout"
        }
      ]
    },
    {
      "cell_type": "code",
      "metadata": {
        "id": "TEQqFPto4viO"
      },
      "source": [
        "## having early stopping and model check point \n",
        "\n",
        "from keras.callbacks import ModelCheckpoint, EarlyStopping\n",
        "\n",
        "# early stopping\n",
        "es = EarlyStopping(monitor='val_accuracy', min_delta= 0.01 , patience= 5, verbose= 1, mode='auto')\n",
        "\n",
        "# model check point\n",
        "mc = ModelCheckpoint(filepath=\"best_model.h5\", monitor= 'val_accuracy', verbose= 1, save_best_only= True, mode = 'auto')\n",
        "\n",
        "# puting call back in a list \n",
        "call_back = [es, mc]"
      ],
      "execution_count": 19,
      "outputs": []
    },
    {
      "cell_type": "code",
      "metadata": {
        "id": "BO0XKcIe63SR",
        "colab": {
          "base_uri": "https://localhost:8080/"
        },
        "outputId": "b4fe85c6-7c0b-4619-9865-2437d9a70fba"
      },
      "source": [
        "hist = model.fit_generator(generator=train_data , \n",
        "                              steps_per_epoch= 8 , \n",
        "                              epochs= 30 , verbose= 1, \n",
        "                              validation_data= val_data , \n",
        "                              validation_steps= 16,\n",
        "                              callbacks = call_back )"
      ],
      "execution_count": 20,
      "outputs": [
        {
          "output_type": "stream",
          "text": [
            "/usr/local/lib/python3.7/dist-packages/tensorflow/python/keras/engine/training.py:1844: UserWarning: `Model.fit_generator` is deprecated and will be removed in a future version. Please use `Model.fit`, which supports generators.\n",
            "  warnings.warn('`Model.fit_generator` is deprecated and '\n"
          ],
          "name": "stderr"
        },
        {
          "output_type": "stream",
          "text": [
            "Epoch 1/30\n",
            "8/8 [==============================] - 38s 643ms/step - loss: 0.8628 - accuracy: 0.5246 - val_loss: 0.6901 - val_accuracy: 0.5918\n",
            "\n",
            "Epoch 00001: val_accuracy improved from -inf to 0.59180, saving model to best_model.h5\n",
            "Epoch 2/30\n",
            "8/8 [==============================] - 5s 658ms/step - loss: 0.6876 - accuracy: 0.6053 - val_loss: 0.6659 - val_accuracy: 0.6211\n",
            "\n",
            "Epoch 00002: val_accuracy improved from 0.59180 to 0.62109, saving model to best_model.h5\n",
            "Epoch 3/30\n",
            "8/8 [==============================] - 5s 671ms/step - loss: 0.6671 - accuracy: 0.5800 - val_loss: 0.6617 - val_accuracy: 0.6289\n",
            "\n",
            "Epoch 00003: val_accuracy improved from 0.62109 to 0.62891, saving model to best_model.h5\n",
            "Epoch 4/30\n",
            "8/8 [==============================] - 5s 672ms/step - loss: 0.6734 - accuracy: 0.6237 - val_loss: 0.6442 - val_accuracy: 0.6113\n",
            "\n",
            "Epoch 00004: val_accuracy did not improve from 0.62891\n",
            "Epoch 5/30\n",
            "8/8 [==============================] - 5s 659ms/step - loss: 0.6436 - accuracy: 0.6098 - val_loss: 0.6320 - val_accuracy: 0.5840\n",
            "\n",
            "Epoch 00005: val_accuracy did not improve from 0.62891\n",
            "Epoch 6/30\n",
            "8/8 [==============================] - 5s 649ms/step - loss: 0.6670 - accuracy: 0.5759 - val_loss: 0.6043 - val_accuracy: 0.6738\n",
            "\n",
            "Epoch 00006: val_accuracy improved from 0.62891 to 0.67383, saving model to best_model.h5\n",
            "Epoch 7/30\n",
            "8/8 [==============================] - 5s 662ms/step - loss: 0.6113 - accuracy: 0.6853 - val_loss: 0.5927 - val_accuracy: 0.7246\n",
            "\n",
            "Epoch 00007: val_accuracy improved from 0.67383 to 0.72461, saving model to best_model.h5\n",
            "Epoch 8/30\n",
            "8/8 [==============================] - 5s 671ms/step - loss: 0.6297 - accuracy: 0.6872 - val_loss: 0.5907 - val_accuracy: 0.6934\n",
            "\n",
            "Epoch 00008: val_accuracy did not improve from 0.72461\n",
            "Epoch 9/30\n",
            "8/8 [==============================] - 5s 670ms/step - loss: 0.6203 - accuracy: 0.6387 - val_loss: 0.6640 - val_accuracy: 0.6035\n",
            "\n",
            "Epoch 00009: val_accuracy did not improve from 0.72461\n",
            "Epoch 10/30\n",
            "8/8 [==============================] - 5s 672ms/step - loss: 0.6215 - accuracy: 0.6464 - val_loss: 0.5394 - val_accuracy: 0.7441\n",
            "\n",
            "Epoch 00010: val_accuracy improved from 0.72461 to 0.74414, saving model to best_model.h5\n",
            "Epoch 11/30\n",
            "8/8 [==============================] - 5s 667ms/step - loss: 0.6070 - accuracy: 0.6760 - val_loss: 0.5574 - val_accuracy: 0.7500\n",
            "\n",
            "Epoch 00011: val_accuracy improved from 0.74414 to 0.75000, saving model to best_model.h5\n",
            "Epoch 12/30\n",
            "8/8 [==============================] - 5s 668ms/step - loss: 0.5424 - accuracy: 0.7441 - val_loss: 0.5192 - val_accuracy: 0.7734\n",
            "\n",
            "Epoch 00012: val_accuracy improved from 0.75000 to 0.77344, saving model to best_model.h5\n",
            "Epoch 13/30\n",
            "8/8 [==============================] - 5s 657ms/step - loss: 0.5176 - accuracy: 0.7685 - val_loss: 0.5127 - val_accuracy: 0.7500\n",
            "\n",
            "Epoch 00013: val_accuracy did not improve from 0.77344\n",
            "Epoch 14/30\n",
            "8/8 [==============================] - 5s 647ms/step - loss: 0.5426 - accuracy: 0.7570 - val_loss: 0.5722 - val_accuracy: 0.6973\n",
            "\n",
            "Epoch 00014: val_accuracy did not improve from 0.77344\n",
            "Epoch 15/30\n",
            "8/8 [==============================] - 5s 660ms/step - loss: 0.5927 - accuracy: 0.6682 - val_loss: 0.4991 - val_accuracy: 0.8066\n",
            "\n",
            "Epoch 00015: val_accuracy improved from 0.77344 to 0.80664, saving model to best_model.h5\n",
            "Epoch 16/30\n",
            "8/8 [==============================] - 5s 640ms/step - loss: 0.5193 - accuracy: 0.7480 - val_loss: 0.5350 - val_accuracy: 0.7402\n",
            "\n",
            "Epoch 00016: val_accuracy did not improve from 0.80664\n",
            "Epoch 17/30\n",
            "8/8 [==============================] - 5s 653ms/step - loss: 0.5475 - accuracy: 0.7234 - val_loss: 0.4669 - val_accuracy: 0.8262\n",
            "\n",
            "Epoch 00017: val_accuracy improved from 0.80664 to 0.82617, saving model to best_model.h5\n",
            "Epoch 18/30\n",
            "8/8 [==============================] - 5s 652ms/step - loss: 0.5359 - accuracy: 0.7504 - val_loss: 0.4421 - val_accuracy: 0.8203\n",
            "\n",
            "Epoch 00018: val_accuracy did not improve from 0.82617\n",
            "Epoch 19/30\n",
            "8/8 [==============================] - 5s 644ms/step - loss: 0.5527 - accuracy: 0.7353 - val_loss: 0.3975 - val_accuracy: 0.8379\n",
            "\n",
            "Epoch 00019: val_accuracy improved from 0.82617 to 0.83789, saving model to best_model.h5\n",
            "Epoch 20/30\n",
            "8/8 [==============================] - 5s 658ms/step - loss: 0.5692 - accuracy: 0.7189 - val_loss: 0.5211 - val_accuracy: 0.8281\n",
            "\n",
            "Epoch 00020: val_accuracy did not improve from 0.83789\n",
            "Epoch 21/30\n",
            "8/8 [==============================] - 5s 655ms/step - loss: 0.5357 - accuracy: 0.7719 - val_loss: 0.4246 - val_accuracy: 0.8125\n",
            "\n",
            "Epoch 00021: val_accuracy did not improve from 0.83789\n",
            "Epoch 22/30\n",
            "8/8 [==============================] - 5s 650ms/step - loss: 0.5040 - accuracy: 0.7392 - val_loss: 0.4139 - val_accuracy: 0.8145\n",
            "\n",
            "Epoch 00022: val_accuracy did not improve from 0.83789\n",
            "Epoch 23/30\n",
            "8/8 [==============================] - 5s 650ms/step - loss: 0.5164 - accuracy: 0.7606 - val_loss: 0.4323 - val_accuracy: 0.8105\n",
            "\n",
            "Epoch 00023: val_accuracy did not improve from 0.83789\n",
            "Epoch 24/30\n",
            "8/8 [==============================] - 5s 642ms/step - loss: 0.4475 - accuracy: 0.8120 - val_loss: 0.4278 - val_accuracy: 0.7949\n",
            "\n",
            "Epoch 00024: val_accuracy did not improve from 0.83789\n",
            "Epoch 00024: early stopping\n"
          ],
          "name": "stdout"
        }
      ]
    },
    {
      "cell_type": "code",
      "metadata": {
        "id": "MvToQlerJSJV"
      },
      "source": [
        "# Loading the best fit model \n",
        "from keras.models import load_model\n",
        "\n",
        "model = load_model(\"/content/best_model.h5\")"
      ],
      "execution_count": 21,
      "outputs": []
    },
    {
      "cell_type": "code",
      "metadata": {
        "colab": {
          "base_uri": "https://localhost:8080/"
        },
        "id": "4aObwwCP7ZjK",
        "outputId": "3ce0c959-4fcf-4c5e-a7a8-ae87beaaf423"
      },
      "source": [
        "model.evaluate_generator(generator= test_data)"
      ],
      "execution_count": 22,
      "outputs": [
        {
          "output_type": "stream",
          "text": [
            "/usr/local/lib/python3.7/dist-packages/tensorflow/python/keras/engine/training.py:1877: UserWarning: `Model.evaluate_generator` is deprecated and will be removed in a future version. Please use `Model.evaluate`, which supports generators.\n",
            "  warnings.warn('`Model.evaluate_generator` is deprecated and '\n"
          ],
          "name": "stderr"
        },
        {
          "output_type": "execute_result",
          "data": {
            "text/plain": [
              "[0.40765640139579773, 0.8483063578605652]"
            ]
          },
          "metadata": {
            "tags": []
          },
          "execution_count": 22
        }
      ]
    },
    {
      "cell_type": "code",
      "metadata": {
        "id": "9Izk8XB_QFwz",
        "colab": {
          "base_uri": "https://localhost:8080/"
        },
        "outputId": "27355782-e6bc-4bfe-8e0d-0bb676bf0e2e"
      },
      "source": [
        "h =  hist.history\n",
        "h.keys()"
      ],
      "execution_count": 23,
      "outputs": [
        {
          "output_type": "execute_result",
          "data": {
            "text/plain": [
              "dict_keys(['loss', 'accuracy', 'val_loss', 'val_accuracy'])"
            ]
          },
          "metadata": {
            "tags": []
          },
          "execution_count": 23
        }
      ]
    },
    {
      "cell_type": "code",
      "metadata": {
        "id": "E0fTfDVYQNci",
        "colab": {
          "base_uri": "https://localhost:8080/",
          "height": 281
        },
        "outputId": "2904ff40-307f-4ab7-9c37-8e377fdefa51"
      },
      "source": [
        "plt.plot(h['accuracy'])\n",
        "plt.plot(h['val_accuracy'] , c = \"red\")\n",
        "plt.title(\"acc vs v-acc\")\n",
        "plt.show()"
      ],
      "execution_count": 24,
      "outputs": [
        {
          "output_type": "display_data",
          "data": {
            "image/png": "[encoded data removed]",
            "text/plain": [
              "<Figure size 432x288 with 1 Axes>"
            ]
          },
          "metadata": {
            "tags": [],
            "needs_background": "light"
          }
        }
      ]
    },
    {
      "cell_type": "code",
      "metadata": {
        "id": "ERL-3yvUQRBL",
        "colab": {
          "base_uri": "https://localhost:8080/",
          "height": 281
        },
        "outputId": "70fd241b-7a24-4ca2-db85-477822e05576"
      },
      "source": [
        "plt.plot(h['loss'])\n",
        "plt.plot(h['val_loss'] , c = \"red\")\n",
        "plt.title(\"loss vs v-loss\")\n",
        "plt.show()"
      ],
      "execution_count": 25,
      "outputs": [
        {
          "output_type": "display_data",
          "data": {
            "image/png": "[encoded data removed]",
            "text/plain": [
              "<Figure size 432x288 with 1 Axes>"
            ]
          },
          "metadata": {
            "tags": [],
            "needs_background": "light"
          }
        }
      ]
    },
    {
      "cell_type": "code",
      "metadata": {
        "colab": {
          "base_uri": "https://localhost:8080/"
        },
        "id": "M1y_eWcYL7_L",
        "outputId": "763e6673-98a6-4e17-db65-13c3c06ba6c2"
      },
      "source": [
        "y_pred = model.predict_classes(test_data)"
      ],
      "execution_count": 37,
      "outputs": [
        {
          "output_type": "stream",
          "text": [
            "/usr/local/lib/python3.7/dist-packages/tensorflow/python/keras/engine/sequential.py:450: UserWarning: `model.predict_classes()` is deprecated and will be removed after 2021-01-01. Please use instead:* `np.argmax(model.predict(x), axis=-1)`,   if your model does multi-class classification   (e.g. if it uses a `softmax` last-layer activation).* `(model.predict(x) > 0.5).astype(\"int32\")`,   if your model does binary classification   (e.g. if it uses a `sigmoid` last-layer activation).\n",
            "  warnings.warn('`model.predict_classes()` is deprecated and '\n"
          ],
          "name": "stderr"
        }
      ]
    },
    {
      "cell_type": "code",
      "metadata": {
        "id": "8BxY5hdTMFKa"
      },
      "source": [
        "y_test = test_data.classes.reshape(-1,1)"
      ],
      "execution_count": 38,
      "outputs": []
    },
    {
      "cell_type": "code",
      "metadata": {
        "id": "EXgcFa7zMGYL"
      },
      "source": [
        "from sklearn.metrics import confusion_matrix"
      ],
      "execution_count": 39,
      "outputs": []
    },
    {
      "cell_type": "code",
      "metadata": {
        "colab": {
          "base_uri": "https://localhost:8080/"
        },
        "id": "CLmvxPfNMuAq",
        "outputId": "a6b6afe2-81b7-4e42-f51d-32d1a6ce8a71"
      },
      "source": [
        "z = confusion_matrix(y_test, y_pred)\n",
        "z"
      ],
      "execution_count": 40,
      "outputs": [
        {
          "output_type": "execute_result",
          "data": {
            "text/plain": [
              "array([[227, 144],\n",
              "       [201, 107]])"
            ]
          },
          "metadata": {
            "tags": []
          },
          "execution_count": 40
        }
      ]
    },
    {
      "cell_type": "code",
      "metadata": {
        "id": "EBEkhVoCNP1A"
      },
      "source": [
        "import seaborn as sns"
      ],
      "execution_count": 41,
      "outputs": []
    },
    {
      "cell_type": "code",
      "metadata": {
        "colab": {
          "base_uri": "https://localhost:8080/",
          "height": 282
        },
        "id": "BUtf6E3NNjeT",
        "outputId": "d98b64f7-7653-49d7-c950-30f298b5fbdd"
      },
      "source": [
        "sns.heatmap(z , annot=True, fmt= 'd' )"
      ],
      "execution_count": 45,
      "outputs": [
        {
          "output_type": "execute_result",
          "data": {
            "text/plain": [
              "<matplotlib.axes._subplots.AxesSubplot at 0x7f2601474bd0>"
            ]
          },
          "metadata": {
            "tags": []
          },
          "execution_count": 45
        },
        {
          "output_type": "display_data",
          "data": {
            "image/png": "[encoded data removed]",
            "text/plain": [
              "<Figure size 432x288 with 2 Axes>"
            ]
          },
          "metadata": {
            "tags": [],
            "needs_background": "light"
          }
        }
      ]
    },
    {
      "cell_type": "code",
      "metadata": {
        "id": "a03IzW6m948Z",
        "colab": {
          "base_uri": "https://localhost:8080/"
        },
        "outputId": "ae9c05b1-be2e-484d-a502-bf1658c26c55"
      },
      "source": [
        "# path for the image to see if it predics correct class\n",
        "\n",
        "path = \"/content/MRI-Brain-Images-abenign-bmalignant-images_Q320.jpg\"\n",
        "img = image.load_img(path, target_size=(224,224),  )\n",
        "\n",
        "i = image.img_to_array(img)/255\n",
        "input_arr = np.array([i])\n",
        "input_arr.shape\n",
        "\n",
        "print(model.predict_classes(input_arr)[0][0] )\n",
        "\n",
        "print(train_data.class_indices)"
      ],
      "execution_count": 26,
      "outputs": [
        {
          "output_type": "stream",
          "text": [
            "/usr/local/lib/python3.7/dist-packages/tensorflow/python/keras/engine/sequential.py:450: UserWarning: `model.predict_classes()` is deprecated and will be removed after 2021-01-01. Please use instead:* `np.argmax(model.predict(x), axis=-1)`,   if your model does multi-class classification   (e.g. if it uses a `softmax` last-layer activation).* `(model.predict(x) > 0.5).astype(\"int32\")`,   if your model does binary classification   (e.g. if it uses a `sigmoid` last-layer activation).\n",
            "  warnings.warn('`model.predict_classes()` is deprecated and '\n"
          ],
          "name": "stderr"
        },
        {
          "output_type": "stream",
          "text": [
            "0\n",
            "{'Brain Tumor': 0, 'Healthey': 1}\n"
          ],
          "name": "stdout"
        }
      ]
    },
    {
      "cell_type": "code",
      "metadata": {
        "id": "tBMmQXuhNn7U"
      },
      "source": [
        ""
      ],
      "execution_count": null,
      "outputs": []
    }
  ]
}