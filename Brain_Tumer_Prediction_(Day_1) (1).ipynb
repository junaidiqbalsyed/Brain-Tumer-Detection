{
  "nbformat": 4,
  "nbformat_minor": 0,
  "metadata": {
    "colab": {
      "name": "Brain Tumer Prediction (Day 1)",
      "provenance": [],
      "collapsed_sections": [],
      "toc_visible": true
    },
    "kernelspec": {
      "name": "python3",
      "display_name": "Python 3"
    },
    "language_info": {
      "name": "python"
    },
    "accelerator": "GPU"
  },
  "cells": [
    {
      "cell_type": "code",
      "metadata": {
        "id": "p1WaCtBHBJP-"
      },
      "source": [
        "# to ignore the warnings \n",
        "import warnings\n",
        "warnings.filterwarnings(\"ignore\")"
      ],
      "execution_count": 20,
      "outputs": []
    },
    {
      "cell_type": "code",
      "metadata": {
        "id": "kEUskv1fBIxI"
      },
      "source": [
        "# get the data from \n",
        "\n",
        "!wget https://www.dropbox.com/s/1nnj7xk0c46sxgg/BrainTumorData.zip?dl=0\n",
        "\n",
        "# unzip the data\n",
        "!unzip /content/BrainTumorData.zip?dl=0"
      ],
      "execution_count": null,
      "outputs": []
    },
    {
      "cell_type": "code",
      "metadata": {
        "id": "avs4zYYFljw0"
      },
      "source": [
        "import numpy as np\n",
        "import pandas as pd\n",
        "import matplotlib.pyplot as plt\n",
        "import glob\n",
        "import os \n",
        "import shutil\n",
        "import math\n",
        "import imutils\n",
        "import cv2\n"
      ],
      "execution_count": 2,
      "outputs": []
    },
    {
      "cell_type": "code",
      "metadata": {
        "colab": {
          "base_uri": "https://localhost:8080/"
        },
        "id": "eo_YQh8VlPUM",
        "outputId": "22bf66ce-9ce7-4df7-da9a-9928aad5b2a1"
      },
      "source": [
        "# count the number of images in the respective classes \n",
        "\n",
        "ROOT_DIR = \"/content/BrainTumorData/Brain Tumor Data Set\"\n",
        "\n",
        "num_of_images = {}\n",
        "\n",
        "for dir in os.listdir(ROOT_DIR):\n",
        "  num_of_images[dir] = len(os.listdir(os.path.join(ROOT_DIR, dir)))\n",
        "\n",
        "num_of_images"
      ],
      "execution_count": 3,
      "outputs": [
        {
          "output_type": "execute_result",
          "data": {
            "text/plain": [
              "{'Brain Tumor': 2513, 'Healthey': 2087}"
            ]
          },
          "metadata": {
            "tags": []
          },
          "execution_count": 3
        }
      ]
    },
    {
      "cell_type": "markdown",
      "metadata": {
        "id": "26bwrhRPul_y"
      },
      "source": [
        "###we will split our data such that we have \n",
        "    * 70% for Train Data \n",
        "    * 15% for Validation \n",
        "    * 15% for Testing "
      ]
    },
    {
      "cell_type": "code",
      "metadata": {
        "id": "udVaH7ZEmKE-"
      },
      "source": [
        "# we create a training folder \n",
        "\n",
        "if not os.path.exists(\"./train\"):\n",
        "  os.mkdir(\"./train\")\n",
        "\n",
        "  for dir in os.listdir(ROOT_DIR):\n",
        "    os.makedirs(\"./train/\"+dir)\n",
        "    for img in np.random.choice(a=os.listdir(os.path.join(ROOT_DIR, dir) ) , \n",
        "                                size= (math.floor(70/100*num_of_images[dir])-5) , replace=False ):\n",
        "      \n",
        "      O = os.path.join(ROOT_DIR,dir,img)\n",
        "      D = os.path.join('./train', dir)\n",
        "      shutil.copy(O,D)\n",
        "      os.remove(O)\n",
        "else:\n",
        "  print(\"Train Folder exsist\")"
      ],
      "execution_count": 4,
      "outputs": []
    },
    {
      "cell_type": "code",
      "metadata": {
        "id": "_eQ3H_r7yc6a"
      },
      "source": [
        "# we create a Validation folder \n",
        "\n",
        "if not os.path.exists(\"./val\"):\n",
        "  os.mkdir(\"./val\")\n",
        "\n",
        "  for dir in os.listdir(ROOT_DIR):\n",
        "    os.makedirs(\"./val/\"+dir)\n",
        "    for img in np.random.choice(a=os.listdir(os.path.join(ROOT_DIR, dir) ) , \n",
        "                                size= (math.floor(15/100*num_of_images[dir])-5) , replace=False ):\n",
        "      \n",
        "      O = os.path.join(ROOT_DIR,dir,img)\n",
        "      D = os.path.join('./val', dir)\n",
        "      shutil.copy(O,D)\n",
        "      os.remove(O)\n",
        "else:\n",
        "  print(\"Train Folder exsist\")"
      ],
      "execution_count": 5,
      "outputs": []
    },
    {
      "cell_type": "code",
      "metadata": {
        "id": "P7l47nEWz_s3"
      },
      "source": [
        "# we create a test folder \n",
        "\n",
        "if not os.path.exists(\"./test\"):\n",
        "  os.mkdir(\"./test\")\n",
        "\n",
        "  for dir in os.listdir(ROOT_DIR):\n",
        "    os.makedirs(\"./test/\"+dir)\n",
        "    for img in np.random.choice(a=os.listdir(os.path.join(ROOT_DIR, dir) ) , \n",
        "                                size= (math.floor(15/100*num_of_images[dir])-5) , replace=False ):\n",
        "      \n",
        "      O = os.path.join(ROOT_DIR,dir,img)\n",
        "      D = os.path.join('./test', dir)\n",
        "      shutil.copy(O,D)\n",
        "      os.remove(O)\n",
        "else:\n",
        "  print(\"Train Folder exsist\")"
      ],
      "execution_count": 6,
      "outputs": []
    },
    {
      "cell_type": "markdown",
      "metadata": {
        "id": "p4pjfje91k7D"
      },
      "source": [
        "### WE have now sucessfully devided our data \n",
        "\n",
        "## Lets now build our model "
      ]
    },
    {
      "cell_type": "code",
      "metadata": {
        "id": "SFgvuo9q1S9t"
      },
      "source": [
        "import numpy as np\n",
        "import matplotlib.pyplot as plt\n",
        "from keras.layers import Dense,Conv2D, Flatten, MaxPool2D, Dropout, BatchNormalization, MaxPooling2D, GlobalAvgPool2D\n",
        "from keras.models import Sequential\n",
        "from keras.preprocessing import image\n",
        "import keras"
      ],
      "execution_count": 7,
      "outputs": []
    },
    {
      "cell_type": "code",
      "metadata": {
        "id": "ZGDgyWUl13Iz"
      },
      "source": [
        ""
      ],
      "execution_count": 7,
      "outputs": []
    },
    {
      "cell_type": "code",
      "metadata": {
        "colab": {
          "base_uri": "https://localhost:8080/"
        },
        "id": "eCx34xTN_Nic",
        "outputId": "e6052a0f-b2dc-4d34-b534-65ae0afe6834"
      },
      "source": [
        "# Cnn model \n",
        "\n",
        "model = Sequential() \n",
        "model.add(Conv2D(filters=16, kernel_size= (3,3), activation= 'relu', input_shape=(224,224,3)) )\n",
        "\n",
        "model.add(Conv2D(filters=32, kernel_size=(3,3), activation='relu' ))\n",
        "model.add(MaxPool2D(pool_size=(2,2)))\n",
        "\n",
        "\n",
        "model.add(Conv2D(filters=64, kernel_size=(3,3), activation='relu' ))\n",
        "model.add(MaxPool2D(pool_size=(2,2)))\n",
        "\n",
        "\n",
        "model.add(Conv2D(filters=128, kernel_size=(3,3), activation='relu' ))\n",
        "model.add(MaxPool2D(pool_size=(2,2)))\n",
        "\n",
        "model.add(Dropout(rate=0.25))\n",
        "\n",
        "model.add(Flatten())\n",
        "model.add(Dense(units=64, activation='relu'))\n",
        "model.add(Dropout(rate=0.25))\n",
        "model.add(Dense(units=1, activation='sigmoid'))\n",
        "\n",
        "model.compile(loss= keras.losses.binary_crossentropy, optimizer='adam', metrics=['accuracy'] )\n",
        " \n",
        "model.summary()"
      ],
      "execution_count": 8,
      "outputs": [
        {
          "output_type": "stream",
          "text": [
            "Model: \"sequential\"\n",
            "_________________________________________________________________\n",
            "Layer (type)                 Output Shape              Param #   \n",
            "=================================================================\n",
            "conv2d (Conv2D)              (None, 222, 222, 16)      448       \n",
            "_________________________________________________________________\n",
            "conv2d_1 (Conv2D)            (None, 220, 220, 32)      4640      \n",
            "_________________________________________________________________\n",
            "max_pooling2d (MaxPooling2D) (None, 110, 110, 32)      0         \n",
            "_________________________________________________________________\n",
            "conv2d_2 (Conv2D)            (None, 108, 108, 64)      18496     \n",
            "_________________________________________________________________\n",
            "max_pooling2d_1 (MaxPooling2 (None, 54, 54, 64)        0         \n",
            "_________________________________________________________________\n",
            "conv2d_3 (Conv2D)            (None, 52, 52, 128)       73856     \n",
            "_________________________________________________________________\n",
            "max_pooling2d_2 (MaxPooling2 (None, 26, 26, 128)       0         \n",
            "_________________________________________________________________\n",
            "dropout (Dropout)            (None, 26, 26, 128)       0         \n",
            "_________________________________________________________________\n",
            "flatten (Flatten)            (None, 86528)             0         \n",
            "_________________________________________________________________\n",
            "dense (Dense)                (None, 64)                5537856   \n",
            "_________________________________________________________________\n",
            "dropout_1 (Dropout)          (None, 64)                0         \n",
            "_________________________________________________________________\n",
            "dense_1 (Dense)              (None, 1)                 65        \n",
            "=================================================================\n",
            "Total params: 5,635,361\n",
            "Trainable params: 5,635,361\n",
            "Non-trainable params: 0\n",
            "_________________________________________________________________\n"
          ],
          "name": "stdout"
        }
      ]
    },
    {
      "cell_type": "code",
      "metadata": {
        "id": "D20xZkfm4aQj"
      },
      "source": [
        ""
      ],
      "execution_count": 8,
      "outputs": []
    },
    {
      "cell_type": "code",
      "metadata": {
        "id": "jQTLkfM85THf"
      },
      "source": [
        "model.compile(optimizer='adam', loss='binary_crossentropy', metrics=['accuracy']  )"
      ],
      "execution_count": 9,
      "outputs": []
    },
    {
      "cell_type": "markdown",
      "metadata": {
        "id": "YmaXaPqI5rkl"
      },
      "source": [
        "## Preparing our data using data generator "
      ]
    },
    {
      "cell_type": "code",
      "metadata": {
        "id": "V5Ct0i-35kgH"
      },
      "source": [
        "#train_datagen = image.ImageDataGenerator(preprocessing_function= , )"
      ],
      "execution_count": 10,
      "outputs": []
    },
    {
      "cell_type": "code",
      "metadata": {
        "id": "rlOcG5n-6Jmx"
      },
      "source": [
        "train_datagen = image.ImageDataGenerator(\n",
        "     zoom_range = 0.2, shear_range = 0.2 , rescale = 1./255 , horizontal_flip=True\n",
        ")\n",
        "\n",
        "val_datagen = image.ImageDataGenerator(rescale = 1./255)\n",
        "\n",
        "test_datagen = image.ImageDataGenerator(rescale = 1./255)"
      ],
      "execution_count": 11,
      "outputs": []
    },
    {
      "cell_type": "code",
      "metadata": {
        "colab": {
          "base_uri": "https://localhost:8080/"
        },
        "id": "Ze4QLGT-6RfD",
        "outputId": "461e59c3-3108-4e74-a393-9e3b647151bc"
      },
      "source": [
        "train_data = train_datagen.flow_from_directory(directory= \"/content/train\", target_size=(224,224), batch_size=32,\n",
        "                                  class_mode = 'binary', \n",
        "                                  )\n",
        "\n"
      ],
      "execution_count": 12,
      "outputs": [
        {
          "output_type": "stream",
          "text": [
            "Found 3209 images belonging to 2 classes.\n"
          ],
          "name": "stdout"
        }
      ]
    },
    {
      "cell_type": "code",
      "metadata": {
        "colab": {
          "base_uri": "https://localhost:8080/"
        },
        "id": "Dxd6UwmpHEVm",
        "outputId": "ec26f76f-4670-4d08-baaa-e772b1dc6717"
      },
      "source": [
        "train_data.class_indices"
      ],
      "execution_count": 13,
      "outputs": [
        {
          "output_type": "execute_result",
          "data": {
            "text/plain": [
              "{'Brain Tumor': 0, 'Healthey': 1}"
            ]
          },
          "metadata": {
            "tags": []
          },
          "execution_count": 13
        }
      ]
    },
    {
      "cell_type": "code",
      "metadata": {
        "colab": {
          "base_uri": "https://localhost:8080/"
        },
        "id": "QtdHpvg76czX",
        "outputId": "2440f808-e5a5-4938-9761-650a08c4c2d1"
      },
      "source": [
        "val_data = val_datagen.flow_from_directory(directory= \"/content/val\", target_size=(224,224), batch_size=32,\n",
        "                                  class_mode = 'binary'\n",
        "                                  )"
      ],
      "execution_count": 14,
      "outputs": [
        {
          "output_type": "stream",
          "text": [
            "Found 679 images belonging to 2 classes.\n"
          ],
          "name": "stdout"
        }
      ]
    },
    {
      "cell_type": "code",
      "metadata": {
        "colab": {
          "base_uri": "https://localhost:8080/"
        },
        "id": "E0eGbsVW6oY8",
        "outputId": "19fae701-f514-4559-8577-758977e2d11a"
      },
      "source": [
        "test_data = test_datagen.flow_from_directory(directory= \"/content/test\", target_size=(224,224), batch_size=32,\n",
        "                                  class_mode = 'binary'\n",
        "                                  )"
      ],
      "execution_count": 15,
      "outputs": [
        {
          "output_type": "stream",
          "text": [
            "Found 679 images belonging to 2 classes.\n"
          ],
          "name": "stdout"
        }
      ]
    },
    {
      "cell_type": "code",
      "metadata": {
        "id": "TEQqFPto4viO"
      },
      "source": [
        "## having early stopping and model check point \n",
        "\n",
        "from keras.callbacks import ModelCheckpoint, EarlyStopping\n",
        "\n",
        "# early stopping\n",
        "es = EarlyStopping(monitor='val_accuracy', min_delta= 0.01 , patience= 5, verbose= 1, mode='auto')\n",
        "\n",
        "# model check point\n",
        "mc = ModelCheckpoint(filepath=\"best_model.h5\", monitor= 'val_accuracy', verbose= 1, save_best_only= True, mode = 'auto')\n",
        "\n",
        "# puting call back in a list \n",
        "call_back = [es, mc]"
      ],
      "execution_count": 16,
      "outputs": []
    },
    {
      "cell_type": "code",
      "metadata": {
        "id": "BO0XKcIe63SR",
        "colab": {
          "base_uri": "https://localhost:8080/"
        },
        "outputId": "0ebce1fc-c075-4d39-abae-5a13a027786f"
      },
      "source": [
        "hist = model.fit_generator(generator=train_data , \n",
        "                              steps_per_epoch= 8 , \n",
        "                              epochs= 30 , verbose= 1, \n",
        "                              validation_data= val_data , \n",
        "                              validation_steps= 16,\n",
        "                              callbacks = call_back )"
      ],
      "execution_count": 17,
      "outputs": [
        {
          "output_type": "stream",
          "text": [
            "/usr/local/lib/python3.7/dist-packages/tensorflow/python/keras/engine/training.py:1844: UserWarning: `Model.fit_generator` is deprecated and will be removed in a future version. Please use `Model.fit`, which supports generators.\n",
            "  warnings.warn('`Model.fit_generator` is deprecated and '\n"
          ],
          "name": "stderr"
        },
        {
          "output_type": "stream",
          "text": [
            "Epoch 1/30\n",
            "8/8 [==============================] - 37s 712ms/step - loss: 0.7048 - accuracy: 0.5431 - val_loss: 0.6223 - val_accuracy: 0.6699\n",
            "\n",
            "Epoch 00001: val_accuracy improved from -inf to 0.66992, saving model to best_model.h5\n",
            "Epoch 2/30\n",
            "8/8 [==============================] - 5s 686ms/step - loss: 0.6555 - accuracy: 0.5859 - val_loss: 0.6134 - val_accuracy: 0.6875\n",
            "\n",
            "Epoch 00002: val_accuracy improved from 0.66992 to 0.68750, saving model to best_model.h5\n",
            "Epoch 3/30\n",
            "8/8 [==============================] - 5s 705ms/step - loss: 0.6514 - accuracy: 0.6257 - val_loss: 0.6117 - val_accuracy: 0.7305\n",
            "\n",
            "Epoch 00003: val_accuracy improved from 0.68750 to 0.73047, saving model to best_model.h5\n",
            "Epoch 4/30\n",
            "8/8 [==============================] - 5s 688ms/step - loss: 0.6763 - accuracy: 0.5931 - val_loss: 0.6035 - val_accuracy: 0.7051\n",
            "\n",
            "Epoch 00004: val_accuracy did not improve from 0.73047\n",
            "Epoch 5/30\n",
            "8/8 [==============================] - 5s 682ms/step - loss: 0.6200 - accuracy: 0.6741 - val_loss: 0.5112 - val_accuracy: 0.7617\n",
            "\n",
            "Epoch 00005: val_accuracy improved from 0.73047 to 0.76172, saving model to best_model.h5\n",
            "Epoch 6/30\n",
            "8/8 [==============================] - 5s 695ms/step - loss: 0.6534 - accuracy: 0.6446 - val_loss: 0.6138 - val_accuracy: 0.6289\n",
            "\n",
            "Epoch 00006: val_accuracy did not improve from 0.76172\n",
            "Epoch 7/30\n",
            "8/8 [==============================] - 5s 707ms/step - loss: 0.6227 - accuracy: 0.6413 - val_loss: 0.4946 - val_accuracy: 0.7676\n",
            "\n",
            "Epoch 00007: val_accuracy improved from 0.76172 to 0.76758, saving model to best_model.h5\n",
            "Epoch 8/30\n",
            "8/8 [==============================] - 5s 706ms/step - loss: 0.5699 - accuracy: 0.7573 - val_loss: 0.5066 - val_accuracy: 0.7422\n",
            "\n",
            "Epoch 00008: val_accuracy did not improve from 0.76758\n",
            "Epoch 9/30\n",
            "8/8 [==============================] - 5s 697ms/step - loss: 0.5724 - accuracy: 0.7163 - val_loss: 0.4752 - val_accuracy: 0.8047\n",
            "\n",
            "Epoch 00009: val_accuracy improved from 0.76758 to 0.80469, saving model to best_model.h5\n",
            "Epoch 10/30\n",
            "8/8 [==============================] - 5s 700ms/step - loss: 0.5545 - accuracy: 0.7342 - val_loss: 0.6033 - val_accuracy: 0.6797\n",
            "\n",
            "Epoch 00010: val_accuracy did not improve from 0.80469\n",
            "Epoch 11/30\n",
            "8/8 [==============================] - 5s 698ms/step - loss: 0.5920 - accuracy: 0.6426 - val_loss: 0.4697 - val_accuracy: 0.7871\n",
            "\n",
            "Epoch 00011: val_accuracy did not improve from 0.80469\n",
            "Epoch 12/30\n",
            "8/8 [==============================] - 5s 685ms/step - loss: 0.5244 - accuracy: 0.7322 - val_loss: 0.4549 - val_accuracy: 0.8008\n",
            "\n",
            "Epoch 00012: val_accuracy did not improve from 0.80469\n",
            "Epoch 13/30\n",
            "8/8 [==============================] - 5s 687ms/step - loss: 0.5034 - accuracy: 0.7649 - val_loss: 0.4928 - val_accuracy: 0.7500\n",
            "\n",
            "Epoch 00013: val_accuracy did not improve from 0.80469\n",
            "Epoch 14/30\n",
            "8/8 [==============================] - 5s 701ms/step - loss: 0.4766 - accuracy: 0.8204 - val_loss: 0.4114 - val_accuracy: 0.8125\n",
            "\n",
            "Epoch 00014: val_accuracy improved from 0.80469 to 0.81250, saving model to best_model.h5\n",
            "Epoch 00014: early stopping\n"
          ],
          "name": "stdout"
        }
      ]
    },
    {
      "cell_type": "code",
      "metadata": {
        "id": "MvToQlerJSJV"
      },
      "source": [
        "# Loading the best fit model \n",
        "from keras.models import load_model\n",
        "\n",
        "model = load_model(\"/content/best_model.h5\")"
      ],
      "execution_count": 18,
      "outputs": []
    },
    {
      "cell_type": "markdown",
      "metadata": {
        "id": "7wFfgVLFZ5VW"
      },
      "source": [
        "# Model Accuracy"
      ]
    },
    {
      "cell_type": "code",
      "metadata": {
        "colab": {
          "base_uri": "https://localhost:8080/"
        },
        "id": "4aObwwCP7ZjK",
        "outputId": "18cdd3d9-8d58-45ac-a335-7ca4ee34954f"
      },
      "source": [
        "\n",
        "\n",
        "# checking out the accuracy of our model \n",
        "\n",
        "acc = model.evaluate_generator(generator= test_data)[1] \n",
        "\n",
        "print(f\"The accuracy of your model is = {acc*100} %\")"
      ],
      "execution_count": 21,
      "outputs": [
        {
          "output_type": "stream",
          "text": [
            "The accuracy of your model is = 80.70692420005798 %\n"
          ],
          "name": "stdout"
        }
      ]
    },
    {
      "cell_type": "code",
      "metadata": {
        "id": "9Izk8XB_QFwz",
        "colab": {
          "base_uri": "https://localhost:8080/"
        },
        "outputId": "069b3824-f674-4eba-b44a-2e5d6e859810"
      },
      "source": [
        "h =  hist.history\n",
        "h.keys()"
      ],
      "execution_count": null,
      "outputs": [
        {
          "output_type": "execute_result",
          "data": {
            "text/plain": [
              "dict_keys(['loss', 'accuracy', 'val_loss', 'val_accuracy'])"
            ]
          },
          "metadata": {
            "tags": []
          },
          "execution_count": 23
        }
      ]
    },
    {
      "cell_type": "code",
      "metadata": {
        "id": "E0fTfDVYQNci",
        "colab": {
          "base_uri": "https://localhost:8080/",
          "height": 281
        },
        "outputId": "de48e94a-4b09-45fb-aa84-3879944e1689"
      },
      "source": [
        "plt.plot(h['accuracy'])\n",
        "plt.plot(h['val_accuracy'] , c = \"red\")\n",
        "plt.title(\"acc vs v-acc\")\n",
        "plt.show()"
      ],
      "execution_count": null,
      "outputs": [
        {
          "output_type": "display_data",
          "data": {
            "image/png": "[encoded data removed]",
            "text/plain": [
              "<Figure size 432x288 with 1 Axes>"
            ]
          },
          "metadata": {
            "tags": [],
            "needs_background": "light"
          }
        }
      ]
    },
    {
      "cell_type": "code",
      "metadata": {
        "id": "ERL-3yvUQRBL",
        "colab": {
          "base_uri": "https://localhost:8080/",
          "height": 281
        },
        "outputId": "44344c9a-8f59-4057-f965-9c3590091be2"
      },
      "source": [
        "plt.plot(h['loss'])\n",
        "plt.plot(h['val_loss'] , c = \"red\")\n",
        "plt.title(\"loss vs v-loss\")\n",
        "plt.show()"
      ],
      "execution_count": null,
      "outputs": [
        {
          "output_type": "display_data",
          "data": {
            "image/png": "[encoded data removed]",
            "text/plain": [
              "<Figure size 432x288 with 1 Axes>"
            ]
          },
          "metadata": {
            "tags": [],
            "needs_background": "light"
          }
        }
      ]
    },
    {
      "cell_type": "code",
      "metadata": {
        "id": "a03IzW6m948Z",
        "colab": {
          "base_uri": "https://localhost:8080/"
        },
        "outputId": "ebcf87ab-e29a-4f10-9f67-6c1a94707e98"
      },
      "source": [
        "# path for the image to see if it predics correct class\n",
        "\n",
        "path = \"/content/val/Healthey/Not Cancer  (1768).jpg\"\n",
        "img = image.load_img(path, target_size=(224,224),  )\n",
        "\n",
        "i = image.img_to_array(img)/255\n",
        "input_arr = np.array([i])\n",
        "input_arr.shape\n",
        "\n",
        "pred = model.predict_classes(input_arr)[0][0] \n",
        "\n",
        "\n",
        "\n",
        "if pred == 0:\n",
        "  print(\"The MRI image is of BRAIN TUMOR\")\n",
        "else:\n",
        "  print(\"The MRI image is of Healthey brain\")"
      ],
      "execution_count": null,
      "outputs": [
        {
          "output_type": "stream",
          "text": [
            "The MRI image is of Healthey brain\n"
          ],
          "name": "stdout"
        }
      ]
    }
  ]
}